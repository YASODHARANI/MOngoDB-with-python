{
 "cells": [
  {
   "cell_type": "markdown",
   "id": "af6a6e94",
   "metadata": {},
   "source": [
    "### Mongo DB with Python - Querying json Documnents"
   ]
  },
  {
   "cell_type": "code",
   "execution_count": 2,
   "id": "d17b18d3",
   "metadata": {},
   "outputs": [],
   "source": [
    "import pymongo"
   ]
  },
  {
   "cell_type": "code",
   "execution_count": 3,
   "id": "cd35c383",
   "metadata": {},
   "outputs": [],
   "source": [
    "client = pymongo.MongoClient(\"mongodb://127.0.0.1:27017/\")"
   ]
  },
  {
   "cell_type": "code",
   "execution_count": 4,
   "id": "88323c72",
   "metadata": {},
   "outputs": [],
   "source": [
    "mydb = client[\"Employee\"]"
   ]
  },
  {
   "cell_type": "code",
   "execution_count": 5,
   "id": "035fe17e",
   "metadata": {},
   "outputs": [],
   "source": [
    "information = mydb.employeeinformation"
   ]
  },
  {
   "cell_type": "code",
   "execution_count": 6,
   "id": "55b48ca0",
   "metadata": {},
   "outputs": [],
   "source": [
    "record = {\"firstname\":\"rekha\",\"lastname\":\"reddy\",\"Rollno\":\"9\"}"
   ]
  },
  {
   "cell_type": "code",
   "execution_count": 7,
   "id": "b9acceb3",
   "metadata": {},
   "outputs": [
    {
     "data": {
      "text/plain": [
       "<pymongo.results.InsertOneResult at 0x28e3ae1e2b0>"
      ]
     },
     "execution_count": 7,
     "metadata": {},
     "output_type": "execute_result"
    }
   ],
   "source": [
    "information.insert_one(record)"
   ]
  },
  {
   "cell_type": "code",
   "execution_count": 8,
   "id": "79d07694",
   "metadata": {},
   "outputs": [
    {
     "data": {
      "text/plain": [
       "<pymongo.results.InsertManyResult at 0x28e39a8ac40>"
      ]
     },
     "execution_count": 8,
     "metadata": {},
     "output_type": "execute_result"
    }
   ],
   "source": [
    "record = [{\"firstname\":\"rekha1\",\"lastname\":\"reddy\",\"Rollno\":\"6\"},{\"firstname\":\"rani1\",\"lastname\":\"reddy\",\"Rollno\":\"8\"}]\n",
    "information.insert_many(record)"
   ]
  },
  {
   "cell_type": "code",
   "execution_count": 10,
   "id": "5f3c039f",
   "metadata": {},
   "outputs": [],
   "source": [
    "records = [{\"firstname\":\"JOhn\",\n",
    "           \"lastname\":\"Doe\",\n",
    "           \"department\":\"Analytics\",\n",
    "           \"qualification\":\"statistics\",\n",
    "           \"age\":30},\n",
    "          {\"firstname\":\"JOhn\",\n",
    "           \"lastname\":\"Smith\",\n",
    "           \"department\":\"Analytics\",\n",
    "           \"qualification\":\"masters\",\n",
    "           \"age\":32},\n",
    "          {\"firstname\":\"Manish\",\n",
    "           \"lastname\":\"sen\",\n",
    "           \"department\":\"Analytics\",\n",
    "           \"qualification\":\"phd\",\n",
    "           \"age\":29},\n",
    "          {\"firstname\":\"Ram\",\n",
    "           \"lastname\":\"singh\",\n",
    "           \"department\":\"Analytics\",\n",
    "           \"qualification\":\"masters\",\n",
    "           \"age\":28}]"
   ]
  },
  {
   "cell_type": "code",
   "execution_count": 12,
   "id": "222eb01f",
   "metadata": {},
   "outputs": [
    {
     "data": {
      "text/plain": [
       "<pymongo.results.InsertManyResult at 0x28e3ae1eb80>"
      ]
     },
     "execution_count": 12,
     "metadata": {},
     "output_type": "execute_result"
    }
   ],
   "source": [
    "information.insert_many(records)"
   ]
  },
  {
   "cell_type": "markdown",
   "id": "3f71b287",
   "metadata": {},
   "source": [
    "### quering mongodb"
   ]
  },
  {
   "cell_type": "code",
   "execution_count": 13,
   "id": "6b59a676",
   "metadata": {},
   "outputs": [
    {
     "data": {
      "text/plain": [
       "{'_id': ObjectId('632d91bc6cd69a3f6fae1975'),\n",
       " 'firstname': 'rekha',\n",
       " 'lastname': 'reddy',\n",
       " 'Rollno': '9'}"
      ]
     },
     "execution_count": 13,
     "metadata": {},
     "output_type": "execute_result"
    }
   ],
   "source": [
    "# simple way of querying    getting top one record\n",
    "information.find_one()"
   ]
  },
  {
   "cell_type": "code",
   "execution_count": 14,
   "id": "97407be2",
   "metadata": {},
   "outputs": [
    {
     "data": {
      "text/plain": [
       "<pymongo.cursor.Cursor at 0x28e3ae599a0>"
      ]
     },
     "execution_count": 14,
     "metadata": {},
     "output_type": "execute_result"
    }
   ],
   "source": [
    "#select * from employeeinformation\n",
    "information.find()"
   ]
  },
  {
   "cell_type": "code",
   "execution_count": 16,
   "id": "ffe840b6",
   "metadata": {},
   "outputs": [
    {
     "name": "stdout",
     "output_type": "stream",
     "text": [
      "{'_id': ObjectId('632d91bc6cd69a3f6fae1975'), 'firstname': 'rekha', 'lastname': 'reddy', 'Rollno': '9'}\n",
      "{'_id': ObjectId('632d92366cd69a3f6fae1976'), 'firstname': 'rekha1', 'lastname': 'reddy', 'Rollno': '6'}\n",
      "{'_id': ObjectId('632d92366cd69a3f6fae1977'), 'firstname': 'rani1', 'lastname': 'reddy', 'Rollno': '8'}\n",
      "{'_id': ObjectId('632d984c6cd69a3f6fae1978'), 'firstname': 'JOhn', 'lastname': 'Doe', 'department': 'Analytics', 'qualification': 'statistics', 'age': 30}\n",
      "{'_id': ObjectId('632d984c6cd69a3f6fae1979'), 'firstname': 'JOhn', 'lastname': 'Smith', 'department': 'Analytics', 'qualification': 'masters', 'age': 32}\n",
      "{'_id': ObjectId('632d984c6cd69a3f6fae197a'), 'firstname': 'Manish', 'lastname': 'sen', 'department': 'Analytics', 'qualification': 'phd', 'age': 29}\n",
      "{'_id': ObjectId('632d984c6cd69a3f6fae197b'), 'firstname': 'Ram', 'lastname': 'singh', 'department': 'Analytics', 'qualification': 'masters', 'age': 28}\n"
     ]
    }
   ],
   "source": [
    "for record in information.find():\n",
    "    print(record)"
   ]
  },
  {
   "cell_type": "code",
   "execution_count": 20,
   "id": "83189ab8",
   "metadata": {},
   "outputs": [],
   "source": [
    "## query the json documents based on equality condition\n",
    "# select * from employeeinformation where firstname=krish"
   ]
  },
  {
   "cell_type": "code",
   "execution_count": 21,
   "id": "d8e729cb",
   "metadata": {},
   "outputs": [
    {
     "name": "stdout",
     "output_type": "stream",
     "text": [
      "{'_id': ObjectId('632d984c6cd69a3f6fae1978'), 'firstname': 'JOhn', 'lastname': 'Doe', 'department': 'Analytics', 'qualification': 'statistics', 'age': 30}\n",
      "{'_id': ObjectId('632d984c6cd69a3f6fae1979'), 'firstname': 'JOhn', 'lastname': 'Smith', 'department': 'Analytics', 'qualification': 'masters', 'age': 32}\n"
     ]
    }
   ],
   "source": [
    "for record in information.find({\"firstname\":\"JOhn\"}):\n",
    "    print(record)"
   ]
  },
  {
   "cell_type": "code",
   "execution_count": 22,
   "id": "8a5260ba",
   "metadata": {},
   "outputs": [
    {
     "name": "stdout",
     "output_type": "stream",
     "text": [
      "{'_id': ObjectId('632d984c6cd69a3f6fae1978'), 'firstname': 'JOhn', 'lastname': 'Doe', 'department': 'Analytics', 'qualification': 'statistics', 'age': 30}\n",
      "{'_id': ObjectId('632d984c6cd69a3f6fae1979'), 'firstname': 'JOhn', 'lastname': 'Smith', 'department': 'Analytics', 'qualification': 'masters', 'age': 32}\n",
      "{'_id': ObjectId('632d984c6cd69a3f6fae197b'), 'firstname': 'Ram', 'lastname': 'singh', 'department': 'Analytics', 'qualification': 'masters', 'age': 28}\n"
     ]
    }
   ],
   "source": [
    "##Query documents using query operators($in,$li,$gt)\n",
    "# what is $ in operation  \n",
    "for record in information.find({\"qualification\":{\"$in\":[\"masters\",\"statistics\"]}}):\n",
    "    print(record)"
   ]
  },
  {
   "cell_type": "code",
   "execution_count": 24,
   "id": "1ad13801",
   "metadata": {},
   "outputs": [
    {
     "name": "stdout",
     "output_type": "stream",
     "text": [
      "{'_id': ObjectId('632d984c6cd69a3f6fae1979'), 'firstname': 'JOhn', 'lastname': 'Smith', 'department': 'Analytics', 'qualification': 'masters', 'age': 32}\n",
      "{'_id': ObjectId('632d984c6cd69a3f6fae197b'), 'firstname': 'Ram', 'lastname': 'singh', 'department': 'Analytics', 'qualification': 'masters', 'age': 28}\n"
     ]
    }
   ],
   "source": [
    "# combination of AND and Query operators\n",
    "for record in information.find({\"qualification\":\"masters\",\"age\":{\"$lt\":33}}):\n",
    "    print(record)"
   ]
  },
  {
   "cell_type": "code",
   "execution_count": 27,
   "id": "59e3acc8",
   "metadata": {},
   "outputs": [
    {
     "name": "stdout",
     "output_type": "stream",
     "text": [
      "{'_id': ObjectId('632d984c6cd69a3f6fae1978'), 'firstname': 'JOhn', 'lastname': 'Doe', 'department': 'Analytics', 'qualification': 'statistics', 'age': 30}\n",
      "{'_id': ObjectId('632d984c6cd69a3f6fae1979'), 'firstname': 'JOhn', 'lastname': 'Smith', 'department': 'Analytics', 'qualification': 'masters', 'age': 32}\n",
      "{'_id': ObjectId('632d984c6cd69a3f6fae197b'), 'firstname': 'Ram', 'lastname': 'singh', 'department': 'Analytics', 'qualification': 'masters', 'age': 28}\n"
     ]
    }
   ],
   "source": [
    "## OR operators\n",
    "for record in information.find({\"$or\":[{\"firstname\":\"JOhn\"},{\"lastname\":\"singh\"}]}):\n",
    "    print(record)"
   ]
  },
  {
   "cell_type": "code",
   "execution_count": 26,
   "id": "0c43eb08",
   "metadata": {},
   "outputs": [
    {
     "name": "stdout",
     "output_type": "stream",
     "text": [
      "{'_id': ObjectId('632d984c6cd69a3f6fae1978'), 'firstname': 'JOhn', 'lastname': 'Doe', 'department': 'Analytics', 'qualification': 'statistics', 'age': 30}\n"
     ]
    }
   ],
   "source": [
    "## AND operators\n",
    "for record in information.find({\"$and\":[{\"firstname\":\"JOhn\"},{\"lastname\":\"Doe\"}]}):\n",
    "    print(record)"
   ]
  },
  {
   "cell_type": "code",
   "execution_count": 33,
   "id": "cff3f14c",
   "metadata": {},
   "outputs": [],
   "source": [
    "## nested documents\n",
    "inventory = mydb.inventory"
   ]
  },
  {
   "cell_type": "code",
   "execution_count": 37,
   "id": "4a5fd121",
   "metadata": {},
   "outputs": [],
   "source": [
    "inventory.insert_many([\n",
    "    {\"item\":\"journal\",'qty':25,'size':{\"h\":14,\"w\":21,\"uom\":\"cm\"},\"states\":\"A\"},\n",
    "    {\"item\":\"notebook\",'qty':50,'size':{\"h\":8.5,\"wt\":11,\"umo\":\"in\"},\"states\":\"A\"},\n",
    "    { 'item': \"paper\", 'qty': 100, 'size': { 'h': 8.5, 'w': 11,'uom': \"in\" },'status': \"D\" },\n",
    "    { 'item': \"planner\", 'qty': 75, 'size': { 'h': 22.85,'w': 30,'uom': \"cm\" },'status': \"D\" },\n",
    "    { 'item': \"postcard\", 'qty': 45, 'size': { 'h': 10, 'w': 15.25,'uom': \"cm\" },'status': \"A\" }\n",
    "    \n",
    "]);"
   ]
  },
  {
   "cell_type": "code",
   "execution_count": 39,
   "id": "b9a74add",
   "metadata": {},
   "outputs": [
    {
     "name": "stdout",
     "output_type": "stream",
     "text": [
      "{'_id': ObjectId('632da03f6cd69a3f6fae197f'), 'item': 'planner', 'qty': 75, 'size': {'h': 22.85, 'w': 30, 'uom': 'cm'}, 'status': 'D'}\n"
     ]
    }
   ],
   "source": [
    "for records in investory.find({'size': { 'h': 22.85,'w': 30,'uom': \"cm\" }}):\n",
    "    print(records)"
   ]
  },
  {
   "cell_type": "code",
   "execution_count": null,
   "id": "c2da8fe0",
   "metadata": {},
   "outputs": [],
   "source": []
  }
 ],
 "metadata": {
  "kernelspec": {
   "display_name": "Python 3 (ipykernel)",
   "language": "python",
   "name": "python3"
  },
  "language_info": {
   "codemirror_mode": {
    "name": "ipython",
    "version": 3
   },
   "file_extension": ".py",
   "mimetype": "text/x-python",
   "name": "python",
   "nbconvert_exporter": "python",
   "pygments_lexer": "ipython3",
   "version": "3.9.12"
  }
 },
 "nbformat": 4,
 "nbformat_minor": 5
}
