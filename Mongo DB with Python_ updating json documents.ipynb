{
 "cells": [
  {
   "cell_type": "code",
   "execution_count": 3,
   "id": "200a7215",
   "metadata": {},
   "outputs": [],
   "source": [
    "import pymongo"
   ]
  },
  {
   "cell_type": "code",
   "execution_count": 8,
   "id": "106d2a23",
   "metadata": {},
   "outputs": [],
   "source": [
    "client = pymongo.MongoClient(\"mongodb://127.0.0.1:27017/\")\n",
    "mydb = client[\"Employee\"]  #employe data base\n",
    "inventry = mydb.inventory"
   ]
  },
  {
   "cell_type": "code",
   "execution_count": 9,
   "id": "6c59ea0c",
   "metadata": {},
   "outputs": [
    {
     "data": {
      "text/plain": [
       "<pymongo.results.InsertManyResult at 0x19d4821cf40>"
      ]
     },
     "execution_count": 9,
     "metadata": {},
     "output_type": "execute_result"
    }
   ],
   "source": [
    "inventry.insert_many([\n",
    "    {\"item\":\"canvas\",\n",
    "     \"quty\":100,\n",
    "    \"size\":{\"h\":28,\"w\":35.5,\"uom\":\"cm\"},\n",
    "    \"status\":\"A\"},\n",
    "     {\"item\":\"journal\",\n",
    "     \"quty\":25,\n",
    "    \"size\":{\"h\":14,\"w\":21,\"uom\":\"cm\"},\n",
    "    \"status\":\"A\"},\n",
    "    {\"item\":\"mat\",\n",
    "     \"quty\":85,\n",
    "    \"size\":{\"h\":27.9,\"w\":35.5,\"uom\":\"cm\"},\n",
    "    \"status\":\"A\"},\n",
    "    {\"item\":\"mousepad\",\n",
    "     \"quty\":25,\n",
    "    \"size\":{\"h\":19,\"w\":22.85,\"uom\":\"cm\"},\n",
    "    \"status\":\"P\"},\n",
    "    {\"item\":\"notebook\",\n",
    "     \"quty\":50,\n",
    "    \"size\":{\"h\":8.5,\"w\":11,\"uom\":\"in\"},\n",
    "    \"status\":\"P\"},\n",
    "    {\"item\":\"paper\",\n",
    "     \"quty\":100,\n",
    "    \"size\":{\"h\":8.5,\"w\":11,\"uom\":\"cm\"},\n",
    "    \"status\":\"D\"},\n",
    "    {\"item\":\"planner\",\n",
    "     \"quty\":75,\n",
    "    \"size\":{\"h\":22.85,\"w\":30,\"uom\":\"cm\"},\n",
    "    \"status\":\"D\"},\n",
    "    {\"item\":\"postcard\",\n",
    "     \"quty\":45,\n",
    "    \"size\":{\"h\":10,\"w\":15.25,\"uom\":\"cm\"},\n",
    "    \"status\":\"A\"},\n",
    "    {\"item\":\"sketchbook\",\n",
    "     \"quty\":80,\n",
    "    \"size\":{\"h\":14,\"w\":21,\"uom\":\"cm\"},\n",
    "    \"status\":\"A\"},\n",
    "    {\"item\":\"sketch pad\",\n",
    "     \"quty\":95,\n",
    "    \"size\":{\"h\":22.85,\"w\":30.5,\"uom\":\"cm\"},\n",
    "    \"status\":\"A\"}\n",
    "])"
   ]
  },
  {
   "cell_type": "markdown",
   "id": "1d945fe2",
   "metadata": {},
   "source": [
    "#### single record updation"
   ]
  },
  {
   "cell_type": "code",
   "execution_count": 10,
   "id": "29617957",
   "metadata": {},
   "outputs": [
    {
     "data": {
      "text/plain": [
       "<pymongo.results.UpdateResult at 0x19d46de5730>"
      ]
     },
     "execution_count": 10,
     "metadata": {},
     "output_type": "execute_result"
    }
   ],
   "source": [
    "inventry.update_one({\"item\":\"sketch pad\"},\n",
    "                    {\"$set\":{\"size.umo\":\"m\",\"status\":\"P\"},\n",
    "                    \"$currentDate\":{\"lastModified\":True}}\n",
    "                   )"
   ]
  },
  {
   "cell_type": "markdown",
   "id": "2776f1b5",
   "metadata": {},
   "source": [
    "#### multiple records updation"
   ]
  },
  {
   "cell_type": "code",
   "execution_count": 12,
   "id": "9f7a506f",
   "metadata": {},
   "outputs": [
    {
     "data": {
      "text/plain": [
       "<pymongo.results.UpdateResult at 0x19d45abe520>"
      ]
     },
     "execution_count": 12,
     "metadata": {},
     "output_type": "execute_result"
    }
   ],
   "source": [
    "inventry.update_many({\"qty\":{\"$lt\":50}},\n",
    "                    {\"$set\":{\"size.umo\":\"in\",\"status\":\"P\"},\n",
    "                    \"$currentDate\":{\"lastModified\":True}}\n",
    "                   )"
   ]
  },
  {
   "cell_type": "markdown",
   "id": "0d285179",
   "metadata": {},
   "source": [
    "#### Replace record"
   ]
  },
  {
   "cell_type": "code",
   "execution_count": 15,
   "id": "3b2376e1",
   "metadata": {},
   "outputs": [
    {
     "data": {
      "text/plain": [
       "<pymongo.results.UpdateResult at 0x19d46da5b80>"
      ]
     },
     "execution_count": 15,
     "metadata": {},
     "output_type": "execute_result"
    }
   ],
   "source": [
    "inventry.replace_one(\n",
    "    {\"item\":\"paper\"},\n",
    "    {\"item\":\"paper\",\n",
    "     \"instock\":[\n",
    "            {\"warehouse\":\"A\",\"qty\":60},\n",
    "            {\"warehouse\":\"B\",\"qty\":40}]})"
   ]
  },
  {
   "cell_type": "code",
   "execution_count": null,
   "id": "e2313518",
   "metadata": {},
   "outputs": [],
   "source": []
  }
 ],
 "metadata": {
  "kernelspec": {
   "display_name": "Python 3 (ipykernel)",
   "language": "python",
   "name": "python3"
  },
  "language_info": {
   "codemirror_mode": {
    "name": "ipython",
    "version": 3
   },
   "file_extension": ".py",
   "mimetype": "text/x-python",
   "name": "python",
   "nbconvert_exporter": "python",
   "pygments_lexer": "ipython3",
   "version": "3.9.12"
  }
 },
 "nbformat": 4,
 "nbformat_minor": 5
}
