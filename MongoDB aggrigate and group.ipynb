{
 "cells": [
  {
   "cell_type": "code",
   "execution_count": 1,
   "id": "f1752208",
   "metadata": {},
   "outputs": [],
   "source": [
    "from pymongo import MongoClient"
   ]
  },
  {
   "cell_type": "code",
   "execution_count": 5,
   "id": "71d9e8e3",
   "metadata": {},
   "outputs": [
    {
     "data": {
      "text/plain": [
       "<pymongo.results.InsertManyResult at 0x21bef8bc160>"
      ]
     },
     "execution_count": 5,
     "metadata": {},
     "output_type": "execute_result"
    }
   ],
   "source": [
    "#creation of object MongoClient\n",
    "client = MongoClient()\n",
    "\n",
    "#connect with the portnumber and host\n",
    "client = MongoClient(\"mongodb://localhost:27017/\")\n",
    "\n",
    "#access database\n",
    "mydatabase = client[\"Students\"]\n",
    "#Access collection of database\n",
    "collection= mydatabase[\"studentscores\"]\n",
    "data = [\n",
    "    {\"users\":\"Agasthya\" , \"subject\":\"Database\",\"score\":80},\n",
    "    {\"users\":\"Mahan\" , \"subject\":\"Javascript\",\"score\":90},\n",
    "    {\"users\":\"Mahan\" , \"title\":\"Database\",\"score\":85},\n",
    "    {\"users\":\"Agasthya\" , \"title\":\"Javascript\",\"score\":75},\n",
    "    {\"users\":\"mahan\" , \"title\":\"Data science\",\"score\":60},\n",
    "    {\"users\":\"Agasthya\" , \"title\":\"Data science\",\"score\":95},\n",
    "]\n",
    "collection.insert_many(data)"
   ]
  },
  {
   "cell_type": "code",
   "execution_count": 11,
   "id": "408f2a4f",
   "metadata": {},
   "outputs": [
    {
     "name": "stdout",
     "output_type": "stream",
     "text": [
      "{'_id': 'mahan', 'total records': 1}\n",
      "{'_id': 'Agasthya', 'total records': 3}\n",
      "{'_id': 'Mahan', 'total records': 2}\n"
     ]
    }
   ],
   "source": [
    "## total number records\n",
    "Agg_result = collection.aggregate([{\n",
    "    \"$group\":\n",
    "        {\"_id\":\"$users\",\n",
    "        \"total records\":{\"$sum\":1}}\n",
    "}])\n",
    "for i in Agg_result:\n",
    "    print(i)"
   ]
  },
  {
   "cell_type": "code",
   "execution_count": 13,
   "id": "92b795fb",
   "metadata": {},
   "outputs": [
    {
     "name": "stdout",
     "output_type": "stream",
     "text": [
      "{'_id': 'Agasthya', 'total marks': 250}\n",
      "{'_id': 'Mahan', 'total marks': 175}\n",
      "{'_id': 'mahan', 'total marks': 60}\n"
     ]
    }
   ],
   "source": [
    "#calculating the total score based on user\n",
    "Agg_result = collection.aggregate([{\n",
    "    \"$group\":\n",
    "        {\"_id\":\"$users\",\n",
    "        \"total marks\":{\"$sum\":\"$score\"}}\n",
    "}])\n",
    "for i in Agg_result:\n",
    "    print(i)"
   ]
  },
  {
   "cell_type": "code",
   "execution_count": 14,
   "id": "07341444",
   "metadata": {},
   "outputs": [
    {
     "name": "stdout",
     "output_type": "stream",
     "text": [
      "{'_id': 'mahan', 'Students average score': 60.0}\n",
      "{'_id': 'Agasthya', 'Students average score': 83.33333333333333}\n",
      "{'_id': 'Mahan', 'Students average score': 87.5}\n"
     ]
    }
   ],
   "source": [
    "#calculating the average score based on user\n",
    "Agg_result = collection.aggregate([{\n",
    "    \"$group\":\n",
    "        {\"_id\":\"$users\",\n",
    "        \"Students average score\":{\"$avg\":\"$score\"}}\n",
    "}])\n",
    "for i in Agg_result:\n",
    "    print(i)"
   ]
  },
  {
   "cell_type": "code",
   "execution_count": 16,
   "id": "30f2915a",
   "metadata": {},
   "outputs": [],
   "source": [
    "import datetime"
   ]
  },
  {
   "cell_type": "code",
   "execution_count": 40,
   "id": "6a0b3382",
   "metadata": {},
   "outputs": [],
   "source": [
    "data= [{\"_id\":1,\"item\":\"abc\",\"price\":10,\"quantity\":2,\"date\":datetime.datetime.utcnow()},\n",
    "        {\"_id\":2,\"item\":\"zxc\",\"price\":20,\"quantity\":1,\"date\":datetime.datetime.utcnow()},\n",
    "        {\"_id\":3,\"item\":\"abc\",\"price\":5,\"quantity\":5,\"date\":datetime.datetime.utcnow()},\n",
    "        {\"_id\":4,\"item\":\"poi\",\"price\":10,\"quantity\":10,\"date\":datetime.datetime.utcnow()},\n",
    "        {\"_id\":5,\"item\":\"zxc\",\"price\":5,\"quantity\":50,\"date\":datetime.datetime.utcnow()},\n",
    "       ]"
   ]
  },
  {
   "cell_type": "code",
   "execution_count": 41,
   "id": "b407c016",
   "metadata": {},
   "outputs": [
    {
     "data": {
      "text/plain": [
       "[{'_id': 1,\n",
       "  'item': 'abc',\n",
       "  'price': 10,\n",
       "  'quantity': 2,\n",
       "  'date': datetime.datetime(2022, 9, 25, 9, 40, 3, 741369)},\n",
       " {'_id': 2,\n",
       "  'item': 'zxc',\n",
       "  'price': 20,\n",
       "  'quantity': 1,\n",
       "  'date': datetime.datetime(2022, 9, 25, 9, 40, 3, 741369)},\n",
       " {'_id': 3,\n",
       "  'item': 'abc',\n",
       "  'price': 5,\n",
       "  'quantity': 5,\n",
       "  'date': datetime.datetime(2022, 9, 25, 9, 40, 3, 741369)},\n",
       " {'_id': 4,\n",
       "  'item': 'poi',\n",
       "  'price': 10,\n",
       "  'quantity': 10,\n",
       "  'date': datetime.datetime(2022, 9, 25, 9, 40, 3, 741369)},\n",
       " {'_id': 5,\n",
       "  'item': 'zxc',\n",
       "  'price': 5,\n",
       "  'quantity': 50,\n",
       "  'date': datetime.datetime(2022, 9, 25, 9, 40, 3, 741369)}]"
      ]
     },
     "execution_count": 41,
     "metadata": {},
     "output_type": "execute_result"
    }
   ],
   "source": [
    "data"
   ]
  },
  {
   "cell_type": "code",
   "execution_count": 42,
   "id": "f133447b",
   "metadata": {},
   "outputs": [
    {
     "data": {
      "text/plain": [
       "<pymongo.results.InsertManyResult at 0x21bf1aec640>"
      ]
     },
     "execution_count": 42,
     "metadata": {},
     "output_type": "execute_result"
    }
   ],
   "source": [
    "mycollection = mydatabase['Store']\n",
    "mycollection.insert_many(data)"
   ]
  },
  {
   "cell_type": "code",
   "execution_count": 43,
   "id": "3552ba0e",
   "metadata": {},
   "outputs": [],
   "source": [
    "# collecting the avg amount &avg score\n",
    "agg_result = mycollection.aggregate([\n",
    "    {\n",
    "        \"$group\":{\n",
    "            \"_id\":\"$item\",\n",
    "            \"avgAmount\":{\"$avg\":{\"$multiply\":[\"$price\",\"$quantity\"]}},\n",
    "            \"avgQuantity\":{\"$avg\":\"$quantity\"}\n",
    "        }\n",
    "    }\n",
    "])"
   ]
  },
  {
   "cell_type": "code",
   "execution_count": 44,
   "id": "a7be3a3b",
   "metadata": {},
   "outputs": [
    {
     "name": "stdout",
     "output_type": "stream",
     "text": [
      "{'_id': 'zxc', 'avgAmount': 135.0, 'avgQuantity': 25.5}\n",
      "{'_id': 'poi', 'avgAmount': 100.0, 'avgQuantity': 10.0}\n",
      "{'_id': 'abc', 'avgAmount': 22.5, 'avgQuantity': 3.5}\n"
     ]
    }
   ],
   "source": [
    "for i in agg_result:                                            # mongo shell documentation\n",
    "    print(i)"
   ]
  },
  {
   "cell_type": "code",
   "execution_count": 3,
   "id": "1fb55296",
   "metadata": {},
   "outputs": [],
   "source": [
    "## project  \n",
    "data = [{\n",
    "    \"_id\": 1,\n",
    "    \"title\" : \"mnb345\",\n",
    "    \"isbn\" : \"0001122223334\",\n",
    "    \"author\" :{\"last\" :\"uyt\",\"first\": \"aaa\"},\n",
    "    \"copies\" :5,\n",
    "},\n",
    "{\n",
    "    \"_id\": 2,\n",
    "    \"title\" : \"Bank Goods\",\n",
    "    \"isbn\" : \"999999999999999\",\n",
    "    \"author\" :{\"last\" :\"xyz\",\"first\": \"abc\",\"middle\":\" \"},\n",
    "    \"copies\" :2,\n",
    "}]"
   ]
  },
  {
   "cell_type": "code",
   "execution_count": 5,
   "id": "749d107e",
   "metadata": {},
   "outputs": [],
   "source": [
    "#access collection of the databsce\n",
    "#creation of object MongoClient\n",
    "client = MongoClient()\n",
    "\n",
    "#connect with the portnumber and host\n",
    "client = MongoClient(\"mongodb://localhost:27017/\")\n",
    "\n",
    "#access database\n",
    "mydatabase = client[\"Students\"]\n",
    "collection = mydatabase[\"Books\"]"
   ]
  },
  {
   "cell_type": "code",
   "execution_count": 6,
   "id": "72b07a1e",
   "metadata": {},
   "outputs": [
    {
     "data": {
      "text/plain": [
       "<pymongo.results.InsertManyResult at 0x1e0b3538df0>"
      ]
     },
     "execution_count": 6,
     "metadata": {},
     "output_type": "execute_result"
    }
   ],
   "source": [
    "collection.insert_many(data)"
   ]
  },
  {
   "cell_type": "code",
   "execution_count": 9,
   "id": "c78c8fee",
   "metadata": {},
   "outputs": [
    {
     "name": "stdout",
     "output_type": "stream",
     "text": [
      "{'_id': 1, 'title': 'mnb345', 'isbn': '0001122223334'}\n",
      "{'_id': 2, 'title': 'Bank Goods', 'isbn': '999999999999999'}\n"
     ]
    }
   ],
   "source": [
    "for row in collection.aggregate([{\"$project\":{\"title\":1,\"isbn\":1}}]):\n",
    "    print(row)"
   ]
  },
  {
   "cell_type": "code",
   "execution_count": null,
   "id": "bdf29192",
   "metadata": {},
   "outputs": [],
   "source": []
  }
 ],
 "metadata": {
  "kernelspec": {
   "display_name": "Python 3 (ipykernel)",
   "language": "python",
   "name": "python3"
  },
  "language_info": {
   "codemirror_mode": {
    "name": "ipython",
    "version": 3
   },
   "file_extension": ".py",
   "mimetype": "text/x-python",
   "name": "python",
   "nbconvert_exporter": "python",
   "pygments_lexer": "ipython3",
   "version": "3.9.12"
  }
 },
 "nbformat": 4,
 "nbformat_minor": 5
}
